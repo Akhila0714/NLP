{
  "nbformat": 4,
  "nbformat_minor": 0,
  "metadata": {
    "colab": {
      "provenance": []
    },
    "kernelspec": {
      "name": "python3",
      "display_name": "Python 3"
    },
    "language_info": {
      "name": "python"
    }
  },
  "cells": [
    {
      "cell_type": "code",
      "execution_count": null,
      "metadata": {
        "colab": {
          "base_uri": "https://localhost:8080/"
        },
        "id": "zKlPbti_0E0C",
        "outputId": "d2a7da8a-44b3-42fd-c9ee-59cc55651652"
      },
      "outputs": [
        {
          "output_type": "stream",
          "name": "stderr",
          "text": [
            "[nltk_data] Downloading package punkt to /root/nltk_data...\n",
            "[nltk_data]   Unzipping tokenizers/punkt.zip.\n",
            "[nltk_data] Downloading package punkt_tab to /root/nltk_data...\n",
            "[nltk_data]   Unzipping tokenizers/punkt_tab.zip.\n"
          ]
        },
        {
          "output_type": "stream",
          "name": "stdout",
          "text": [
            "['i', 'am', 'getting', 'ready', 'for', 'run']\n"
          ]
        }
      ],
      "source": [
        "import nltk\n",
        "from nltk.tokenize import word_tokenize\n",
        "nltk.download('punkt')\n",
        "nltk.download('punkt_tab')\n",
        "sentence='i am getting ready for run'\n",
        "tokens=word_tokenize(sentence)\n",
        "print(tokens)"
      ]
    },
    {
      "cell_type": "code",
      "source": [
        "import nltk\n",
        "from nltk.tokenize import word_tokenize\n",
        "from nltk.corpus import stopwords\n",
        "nltk.download('punkt')\n",
        "nltk.download('punkt_tab')\n",
        "nltk.download('stopwords')\n",
        "sentence='he was playing cricket . he was so cool about everything'\n",
        "tokens=word_tokenize(sentence)\n",
        "stop_words=set(stopwords.words('english'))\n",
        "filtered_tokens=[word for word in tokens if word.lower() not in stop_words]\n",
        "print(filtered_tokens)\n"
      ],
      "metadata": {
        "colab": {
          "base_uri": "https://localhost:8080/"
        },
        "id": "nyfbDZv03rVn",
        "outputId": "10f6840e-ecf4-4b30-c784-6c8078acc229"
      },
      "execution_count": null,
      "outputs": [
        {
          "output_type": "stream",
          "name": "stderr",
          "text": [
            "[nltk_data] Downloading package punkt to /root/nltk_data...\n",
            "[nltk_data]   Unzipping tokenizers/punkt.zip.\n",
            "[nltk_data] Downloading package punkt_tab to /root/nltk_data...\n",
            "[nltk_data]   Unzipping tokenizers/punkt_tab.zip.\n"
          ]
        },
        {
          "output_type": "stream",
          "name": "stdout",
          "text": [
            "['playing', 'cricket', '.', 'cool', 'everything']\n"
          ]
        },
        {
          "output_type": "stream",
          "name": "stderr",
          "text": [
            "[nltk_data] Downloading package stopwords to /root/nltk_data...\n",
            "[nltk_data]   Unzipping corpora/stopwords.zip.\n"
          ]
        }
      ]
    },
    {
      "cell_type": "code",
      "source": [
        "import nltk\n",
        "from nltk.tokenize import word_tokenize\n",
        "from nltk.stem import PorterStemmer\n",
        "nltk.download('punkt')\n",
        "nltk.download('punkt_tab')\n",
        "sentence='They were roaming around the park when they realized it was getting late to the movie'\n",
        "tokens=word_tokenize(sentence)\n",
        "stemmer=PorterStemmer()\n",
        "stemmed_tokens=[stemmer.stem(word) for word in tokens]\n",
        "print(stemmed_tokens)"
      ],
      "metadata": {
        "colab": {
          "base_uri": "https://localhost:8080/"
        },
        "id": "lHDkpK5l6iTd",
        "outputId": "58c47824-68ba-4403-f757-88de756e395c"
      },
      "execution_count": null,
      "outputs": [
        {
          "output_type": "stream",
          "name": "stdout",
          "text": [
            "['they', 'were', 'roam', 'around', 'the', 'park', 'when', 'they', 'realiz', 'it', 'wa', 'get', 'late', 'to', 'the', 'movi']\n"
          ]
        },
        {
          "output_type": "stream",
          "name": "stderr",
          "text": [
            "[nltk_data] Downloading package punkt to /root/nltk_data...\n",
            "[nltk_data]   Package punkt is already up-to-date!\n",
            "[nltk_data] Downloading package punkt_tab to /root/nltk_data...\n",
            "[nltk_data]   Package punkt_tab is already up-to-date!\n"
          ]
        }
      ]
    },
    {
      "cell_type": "code",
      "source": [
        "import nltk\n",
        "from nltk.tokenize import word_tokenize\n",
        "from textblob import TextBlob\n",
        "from nltk.stem import WordNetLemmatizer\n",
        "nltk.download('punkt')\n",
        "nltk.download('punkt_tab')\n",
        "nltk.download('wordnet')\n",
        "sentence=\"They were roam around the park when they realiz it wa get late to the movi\"\n",
        "tokens=word_tokenize(sentence)\n",
        "print(\"Tokens is: \",tokens)\n",
        "lemmatizer=WordNetLemmatizer()\n",
        "lemmatized_tokens=[lemmatizer.lemmatize(word) for word in tokens]\n",
        "print(\"Lemmoword is \",lemmatized_tokens)\n",
        "corrected = str(TextBlob(sentence).correct())\n",
        "print(\"Corrected sentence:\", corrected)"
      ],
      "metadata": {
        "id": "pEU0Iw80LRkB",
        "colab": {
          "base_uri": "https://localhost:8080/"
        },
        "outputId": "b5a08d6b-e025-4f0b-8138-23bbae0f3bf1"
      },
      "execution_count": null,
      "outputs": [
        {
          "output_type": "stream",
          "name": "stderr",
          "text": [
            "[nltk_data] Downloading package punkt to /root/nltk_data...\n",
            "[nltk_data]   Package punkt is already up-to-date!\n",
            "[nltk_data] Downloading package punkt_tab to /root/nltk_data...\n",
            "[nltk_data]   Package punkt_tab is already up-to-date!\n",
            "[nltk_data] Downloading package wordnet to /root/nltk_data...\n"
          ]
        },
        {
          "output_type": "stream",
          "name": "stdout",
          "text": [
            "Tokens is:  ['They', 'were', 'roam', 'around', 'the', 'park', 'when', 'they', 'realiz', 'it', 'wa', 'get', 'late', 'to', 'the', 'movi']\n",
            "Lemmoword is  ['They', 'were', 'roam', 'around', 'the', 'park', 'when', 'they', 'realiz', 'it', 'wa', 'get', 'late', 'to', 'the', 'movi']\n",
            "Corrected sentence: They were roam around the park when they realize it wa get late to the move\n"
          ]
        }
      ]
    },
    {
      "cell_type": "code",
      "source": [],
      "metadata": {
        "id": "7G-17aBE-p1M"
      },
      "execution_count": null,
      "outputs": []
    }
  ]
}